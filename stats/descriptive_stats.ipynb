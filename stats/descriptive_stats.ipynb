{
 "cells": [
  {
   "cell_type": "code",
   "execution_count": null,
   "metadata": {},
   "outputs": [],
   "source": [
    "# IMPORTS\n",
    "import numpy as np\n",
    "import pandas as pd\n",
    "from scipy import stats\n",
    "import matplotlib.pyplot as plt\n",
    "import seaborn as sns"
   ]
  },
  {
   "attachments": {},
   "cell_type": "markdown",
   "metadata": {},
   "source": [
    "Statistics is a branch of mathematics that deals with the collection, analysis, interpretation, presentation, and organization of data. Statistics can be broadly categorized into two main types:\n",
    "\n",
    "1. Descriptive Statistics: Descriptive statistics involves methods for organizing, summarizing, and presenting data in a meaningful way. Some of the important techniques in descriptive statistics include measures of central tendency (such as mean, median, and mode), measures of variability (such as standard deviation and variance), and graphical displays (such as histograms and box plots). Descriptive statistics is important because it allows us to understand the characteristics of a dataset, and to summarize and communicate the findings in a clear and concise manner.\n",
    "\n",
    "2. Inferential Statistics: Inferential statistics involves methods for making inferences or predictions about a population based on information obtained from a sample. Inferential statistics is used to test hypotheses, estimate parameters, and make predictions about future events. Some of the important techniques in inferential statistics include hypothesis testing, confidence intervals, regression analysis, and ANOVA (analysis of variance). Inferential statistics is important because it allows us to draw conclusions about a population based on a sample, which can be useful in making decisions in business, healthcare, and other fields.\n",
    "\n",
    "In summary, descriptive statistics allows us to understand and summarize the characteristics of a dataset, while inferential statistics allows us to make predictions and draw conclusions about a larger population based on a smaller sample. Both types of statistics are important in data science and are used in a wide range of applications, from scientific research to business analytics."
   ]
  },
  {
   "cell_type": "code",
   "execution_count": null,
   "metadata": {},
   "outputs": [],
   "source": [
    "# Descriptive stats\n",
    "# Skewness: Skewness measures the degree of asymmetry of a distribution. Formula: Skewness = (Σ(x - x̄)^3 / (n-1)) / (standard deviation)^3\n",
    "\n",
    "# Kurtosis: Kurtosis measures the degree of peakedness or flatness of a distribution. Formula: Kurtosis = (Σ(x - x̄)^4 / (n-1)) / (standard deviation)^4"
   ]
  },
  {
   "cell_type": "code",
   "execution_count": null,
   "metadata": {},
   "outputs": [],
   "source": [
    "import numpy as np\n",
    "\n",
    "# Generate a random dataset of 100 values\n",
    "# dataset = np.random.normal(loc=50, scale=10, size=100)\n",
    "dataset = np.random.randint(low=-100, high=100, size=1000)\n",
    "\n",
    "# Calculate the mean, median, and mode\n",
    "mean = np.mean(dataset)\n",
    "median = np.median(dataset)\n",
    "mode = np.round(stats.mode(dataset, keepdims=False), 2)\n",
    "\n",
    "# Calculate the range, variance, and standard deviation\n",
    "range = np.max(dataset) - np.min(dataset)\n",
    "variance = np.var(dataset, ddof=1)\n",
    "std_dev = np.std(dataset, ddof=1)\n",
    "\n",
    "# Calculate the skewness and kurtosis\n",
    "skewness = np.round(stats.skew(dataset), 2)\n",
    "kurtosis = np.round(stats.kurtosis(dataset), 2)\n",
    "\n",
    "# Print the results\n",
    "# print(\"Dataset: \\n\", dataset)\n",
    "print(\"Mean: \", mean)\n",
    "print(\"Median: \", median)\n",
    "print(\"Mode: \", mode)\n",
    "print(\"Range: \", range)\n",
    "print(\"Variance: \", variance)\n",
    "print(\"Standard deviation: \", std_dev)\n",
    "print(\"Skewness: \", skewness)\n",
    "print(\"Kurtosis: \", kurtosis)"
   ]
  },
  {
   "cell_type": "code",
   "execution_count": null,
   "metadata": {},
   "outputs": [],
   "source": []
  },
  {
   "cell_type": "code",
   "execution_count": null,
   "metadata": {},
   "outputs": [],
   "source": [
    "peaker = np.random.normal(loc=0, scale=3, size=10000)\n",
    "peakest = np.random.normal(loc=0, scale=2, size=10000)\n",
    "normal = np.random.normal(loc=0, scale=1, size=10000)\n",
    "flat = np.random.normal(loc=0, scale=5, size=10000)\n",
    "flatter = np.random.normal(loc=0, scale=6, size=10000)\n",
    "flattest = np.random.normal(loc=0, scale=7, size=10000)\n",
    "\n",
    "plt.figure(figsize=(10, 6))\n",
    "sns.kdeplot(peaker, fill=True, label=\"peaker-kurtosis: \"+str(np.round(stats.kurtosis(peaker), 2)))\n",
    "sns.kdeplot(peakest, fill=True, label=\"peakest-kurtosis: \"+str(np.round(stats.kurtosis(peakest), 2)))\n",
    "sns.kdeplot(normal, fill=True, label=\"normal-kurtosis: \"+str(np.round(stats.kurtosis(normal), 2)))\n",
    "sns.kdeplot(flat, fill=True, label=\"flat-kurtosis: \"+str(np.round(stats.kurtosis(flat), 2)))\n",
    "sns.kdeplot(flatter, fill=True, label=\"flatter-kurtosis: \"+str(np.round(stats.kurtosis(flatter), 2)))\n",
    "sns.kdeplot(flattest, fill=True, label=\"flattest-kurtosis: \"+str(np.round(stats.kurtosis(flattest), 2)))\n",
    "plt.legend()\n",
    "plt.show()"
   ]
  },
  {
   "cell_type": "code",
   "execution_count": null,
   "metadata": {},
   "outputs": [],
   "source": [
    "import numpy as np\n",
    "import matplotlib.pyplot as plt\n",
    "\n",
    "# Generate a random dataset with a right-skewed distribution\n",
    "# right_skewed = np.random.gamma(2, 1, size=1000)\n",
    "right_skewed = np.random.exponential(2, size=1000)\n",
    "left_skewed = np.random.exponential(2, size=1000) * -1\n",
    "\n",
    "\n",
    "# Plot the histogram of the dataset\n",
    "plt.figure(figsize=(10, 3))\n",
    "sns.kdeplot(right_skewed, fill=True, label=\"Right-skewed distribution\")\n",
    "sns.kdeplot(left_skewed, fill=True, label=\"Left-skewed distribution\")\n",
    "plt.title(\"Skewed distribution\")\n",
    "plt.xlabel(\"Values\")\n",
    "plt.ylabel(\"Frequency\")\n",
    "plt.legend()\n",
    "plt.show()\n"
   ]
  },
  {
   "cell_type": "code",
   "execution_count": null,
   "metadata": {},
   "outputs": [],
   "source": [
    "import numpy as np\n",
    "import pandas as pd\n",
    "import matplotlib.pyplot as plt\n",
    "import seaborn as sns\n",
    "\n",
    "# Generate a random dataset with a normal distribution\n",
    "dataset = np.random.normal(loc=0, scale=1, size=10000)\n",
    "\n",
    "# Calculate the mean, median, and mode of the dataset\n",
    "mean = np.mean(dataset)\n",
    "median = np.median(dataset)\n",
    "mode = stats.mode(dataset, keepdims=False)[0]\n",
    "print(mean, median, mode)\n",
    "\n",
    "# Plot a histogram of the dataset\n",
    "plt.hist(dataset, bins=50)\n",
    "plt.axvline(mean, color='r', linestyle='-', label='Mean')\n",
    "plt.axvline(median, color='g', linestyle='--', label='Median')\n",
    "plt.axvline(mode, color='b', linestyle='-.', label='Mode')\n",
    "plt.legend()\n",
    "plt.title(\"Histogram of a Normal Distribution\")\n",
    "plt.xlabel(\"Values\")\n",
    "plt.ylabel(\"Frequency\")\n",
    "plt.show()\n",
    "\n",
    "# Plot a box plot of the dataset\n",
    "sns.boxplot(x=dataset)\n",
    "plt.title(\"Box Plot of a Normal Distribution\")\n",
    "plt.xlabel(\"Values\")\n",
    "plt.show()\n",
    "\n",
    "# Plot a density plot of the dataset\n",
    "sns.kdeplot(dataset)\n",
    "plt.title(\"Density Plot of a Normal Distribution\")\n",
    "plt.xlabel(\"Values\")\n",
    "plt.show()\n"
   ]
  },
  {
   "cell_type": "code",
   "execution_count": null,
   "metadata": {},
   "outputs": [],
   "source": [
    "import numpy as np\n",
    "import scipy.stats as stats\n",
    "\n",
    "# Set the random seed for reproducibility\n",
    "np.random.seed(42)\n",
    "\n",
    "# Generate 3 samples from normal distributions with different mean and variance\n",
    "sample1 = np.random.normal(loc=0, scale=1, size=1000)\n",
    "sample2 = np.random.normal(loc=5, scale=2, size=1000)\n",
    "sample3 = np.random.normal(loc=-2, scale=0.5, size=1000)\n",
    "\n",
    "# Calculate the skewness and kurtosis of each sample\n",
    "skewness1 = stats.skew(sample1)\n",
    "kurtosis1 = stats.kurtosis(sample1)\n",
    "skewness2 = stats.skew(sample2)\n",
    "kurtosis2 = stats.kurtosis(sample2)\n",
    "skewness3 = stats.skew(sample3)\n",
    "kurtosis3 = stats.kurtosis(sample3)\n",
    "\n",
    "# Print the skewness and kurtosis of each sample\n",
    "print(\"Sample 1: Skewness = {:.2f}, Kurtosis = {:.2f}\".format(skewness1, kurtosis1))\n",
    "print(\"Sample 2: Skewness = {:.2f}, Kurtosis = {:.2f}\".format(skewness2, kurtosis2))\n",
    "print(\"Sample 3: Skewness = {:.2f}, Kurtosis = {:.2f}\".format(skewness3, kurtosis3))\n"
   ]
  },
  {
   "cell_type": "code",
   "execution_count": null,
   "metadata": {},
   "outputs": [],
   "source": []
  },
  {
   "attachments": {},
   "cell_type": "markdown",
   "metadata": {},
   "source": [
    "#### Correlation and covariance"
   ]
  },
  {
   "cell_type": "code",
   "execution_count": null,
   "metadata": {},
   "outputs": [],
   "source": [
    "import numpy as np\n",
    "\n",
    "# Generate two arrays of random numbers\n",
    "# x = np.random.normal(size=10000)\n",
    "# y = np.random.normal(size=10000)\n",
    "func = lambda x: 2*x + 5.0\n",
    "x = np.arange(0, 100, 0.5)\n",
    "y = [func(a) for a in x]\n",
    "\n",
    "# Calculate the correlation coefficient\n",
    "corr_coef = np.corrcoef(x, y)[0, 1]\n",
    "\n",
    "# Calculate the covariance\n",
    "covariance = np.cov(x, y)[0, 1]\n",
    "\n",
    "# Print the results\n",
    "print(\"Correlation coefficient: {:.2f}\".format(corr_coef))\n",
    "print(\"Covariance: {:.2f}\".format(covariance))\n",
    "# corr_coef"
   ]
  },
  {
   "cell_type": "code",
   "execution_count": null,
   "metadata": {},
   "outputs": [],
   "source": [
    "import numpy as np\n",
    "import pandas as pd\n",
    "from scipy.stats.contingency import chi2_contingency, association #contingency_coefficient\n",
    "\n",
    "# Generate two arrays of random numbers\n",
    "x = np.random.normal(size=100)\n",
    "y = np.random.normal(size=100)\n",
    "\n",
    "# Calculate Pearson correlation coefficient\n",
    "pearson_corr = np.corrcoef(x, y)[0, 1]\n",
    "\n",
    "# Calculate Spearman rank correlation coefficient\n",
    "spearman_corr, _ = stats.spearmanr(x, y)\n",
    "\n",
    "# Calculate covariance\n",
    "covariance = np.cov(x, y)[0, 1]\n",
    "\n",
    "# Create two categorical variables\n",
    "gender = [1, 2, 1, 1, 2]\n",
    "income = [1, 3, 1, 2, 3]\n",
    "\n",
    "# Calculate chi-squared test of independence\n",
    "crosstab = pd.crosstab(gender, income)\n",
    "chi2, pval, dof, expected = chi2_contingency(crosstab)\n",
    "\n",
    "# Calculate Cramer's V coefficient\n",
    "arr = np.array([[g, i] for g, i in zip(gender, income)])\n",
    "cramers_v_coef = association(np.array(arr), method=\"cramer\")\n",
    "tschuprow_v_coef = association(np.array(arr), method=\"tschuprow\")\n",
    "pearson_v_coef = association(np.array(arr), method=\"pearson\")\n",
    "\n",
    "# Calculate contingency coefficient\n",
    "# contingency_coef = contingency_coefficient(gender, income)\n",
    "\n",
    "# Print the results\n",
    "print(\"Pearson correlation coefficient: {:.2f}\".format(pearson_corr))\n",
    "print(\"Spearman rank correlation coefficient: {:.2f}\".format(spearman_corr))\n",
    "print(\"Covariance: {:.2f}\".format(covariance))\n",
    "print(\"Chi-squared test statistic: {:.2f}\".format(chi2))\n",
    "print(\"p-value: {:.2f}\".format(pval))\n",
    "print(\"Cramer's V coefficient: {:.2f}\".format(cramers_v_coef))\n",
    "print(\"Tschuprow's V coefficient: {:.2f}\".format(tschuprow_v_coef))\n",
    "print(\"Pearson's V coefficient: {:.2f}\".format(pearson_v_coef))\n",
    "# print(\"Contingency coefficient: {:.2f}\".format(contingency_coef))\n"
   ]
  },
  {
   "attachments": {},
   "cell_type": "markdown",
   "metadata": {},
   "source": [
    "Sure! So let's say you have two variables, X and Y, and they are both categorical variables. This means that they can take on discrete values, such as \"yes\" or \"no\", or \"red\", \"green\", or \"blue\".\n",
    "\n",
    "You want to know if there is a relationship between these two variables, which means that when one variable changes, the other variable changes as well. To test this, you can use a chi-squared test.\n",
    "\n",
    "In a chi-squared test, you first create a contingency table that shows the frequencies of each combination of values of X and Y. For example, the table might look like this:\n",
    "\n",
    "X = A\tX = B\tX = C\n",
    "Y = 1\t10\t5\t3\n",
    "Y = 2\t8\t12\t6\n",
    "Y = 3\t4\t6\t15\n",
    "Once you have the contingency table, you can calculate the expected frequencies assuming that there is no relationship between X and Y. The expected frequency for each cell in the table is the product of the row total and the column total, divided by the total number of observations.\n",
    "\n",
    "Then, you can calculate the chi-squared statistic by summing the squared differences between the observed and expected frequencies, divided by the expected frequencies. This gives you a measure of how much the observed frequencies deviate from the expected frequencies.\n",
    "\n",
    "Finally, you can compare the calculated chi-squared value to a critical value from the chi-squared distribution with the appropriate degrees of freedom and level of significance. If the calculated value is greater than the critical value, you would reject the null hypothesis and conclude that there is evidence of a significant relationship between X and Y.\n",
    "\n",
    "So in simple terms, the chi-squared test helps us to determine if two categorical variables are related or not by comparing the observed frequencies to the expected frequencies."
   ]
  },
  {
   "cell_type": "code",
   "execution_count": null,
   "metadata": {},
   "outputs": [],
   "source": [
    "#### Anything else aprt from what we have discussed already ?"
   ]
  },
  {
   "attachments": {},
   "cell_type": "markdown",
   "metadata": {},
   "source": [
    "Descriptive statistics include a variety of techniques for summarizing and describing data. In addition to the measures of central tendency, variability, skewness, and kurtosis that we've discussed, some other important elements of descriptive statistics include:\n",
    "\n",
    "Percentiles and quartiles: These are measures that divide a distribution into equal parts. The median is the 50th percentile, and the first and third quartiles are the 25th and 75th percentiles, respectively.\n",
    "\n",
    "Range: The range is the difference between the largest and smallest values in a dataset.\n",
    "\n",
    "Interquartile Range (IQR): The IQR is the difference between the first and third quartiles. It is a measure of the spread of the middle 50% of the data.\n",
    "\n",
    "Outliers: An outlier is an observation that is significantly different from other observations in the dataset. Outliers can affect measures such as the mean and standard deviation.\n",
    "\n",
    "Frequency tables: A frequency table is a tabular summary of the data that shows how often each value occurs.\n",
    "\n",
    "Bar charts and histograms: These are graphical representations of frequency tables that show the distribution of the data.\n",
    "\n",
    "Box plots: A box plot is a graphical summary of the distribution of the data that displays the median, quartiles, and outliers."
   ]
  },
  {
   "cell_type": "code",
   "execution_count": null,
   "metadata": {},
   "outputs": [],
   "source": [
    "### OUtliers calculation methods ?"
   ]
  },
  {
   "attachments": {},
   "cell_type": "markdown",
   "metadata": {},
   "source": [
    "There are several methods in statistics to find outliers in a dataset. Here are some common techniques:\n",
    "\n",
    "Z-score method: This method uses the standard deviation of the data to identify outliers. Any observation that falls more than three standard deviations away from the mean is considered an outlier.\n",
    "\n",
    "Box plot method: A box plot can help identify outliers by plotting the data and displaying the median, quartiles, and any values that fall more than 1.5 times the interquartile range (IQR) away from the nearest quartile.\n",
    "\n",
    "Modified Z-score method: This method is a variation of the Z-score method that uses the median and median absolute deviation instead of the mean and standard deviation. Any observation that falls more than three median absolute deviations away from the median is considered an outlier.\n",
    "\n",
    "Tukey's fences method: This method uses the IQR to define upper and lower limits for the data. Any observation that falls outside these limits is considered an outlier.\n",
    "\n",
    "Mahalanobis distance method: This method calculates the distance of each observation from the center of the data, taking into account the correlation among the variables. Observations that have a large distance from the center are considered outliers.\n",
    "\n",
    "Local outlier factor method: This method calculates the local density of each observation compared to its neighbors. Observations that have a much lower density than their neighbors are considered outliers."
   ]
  },
  {
   "cell_type": "code",
   "execution_count": 2,
   "metadata": {},
   "outputs": [
    {
     "name": "stdout",
     "output_type": "stream",
     "text": [
      "Z-score outliers: 15    4.4\n",
      "Name: sepal width (cm), dtype: float64\n",
      "Box plot outliers: 15    4.4\n",
      "32    4.1\n",
      "33    4.2\n",
      "60    2.0\n",
      "Name: sepal width (cm), dtype: float64\n",
      "Modified Z-score outliers: 15    4.4\n",
      "Name: sepal width (cm), dtype: float64\n",
      "Tukey's fences outliers: 15    4.4\n",
      "32    4.1\n",
      "33    4.2\n",
      "60    2.0\n",
      "Name: sepal width (cm), dtype: float64\n",
      "Local outlier factor outliers: 3      3.1\n",
      "9      3.1\n",
      "30     3.1\n",
      "34     3.1\n",
      "52     3.1\n",
      "65     3.1\n",
      "86     3.1\n",
      "137    3.1\n",
      "139    3.1\n",
      "140    3.1\n",
      "141    3.1\n",
      "Name: sepal width (cm), dtype: float64\n"
     ]
    },
    {
     "data": {
      "image/png": "[encoded data removed]",
      "text/plain": [
       "<Figure size 640x480 with 1 Axes>"
      ]
     },
     "metadata": {},
     "output_type": "display_data"
    }
   ],
   "source": [
    "import numpy as np\n",
    "import pandas as pd\n",
    "import matplotlib.pyplot as plt\n",
    "from sklearn.datasets import load_iris\n",
    "from sklearn.decomposition import PCA\n",
    "from scipy import stats\n",
    "from scipy.spatial import distance\n",
    "\n",
    "# Load the iris dataset\n",
    "iris = load_iris()\n",
    "\n",
    "# Create a pandas DataFrame from the dataset\n",
    "iris_df = pd.DataFrame(data= np.c_[iris['data'], iris['target']],\n",
    "                     columns= iris['feature_names'] + ['target'])\n",
    "\n",
    "# Subset the DataFrame to only include the sepal width feature\n",
    "sepal_width = iris_df['sepal width (cm)']\n",
    "\n",
    "# Z-score method\n",
    "z_scores = np.abs(stats.zscore(sepal_width))\n",
    "z_outliers = sepal_width[z_scores > 3]\n",
    "\n",
    "# Box plot method\n",
    "fig, ax = plt.subplots()\n",
    "ax.boxplot(sepal_width)\n",
    "q1, q3 = np.percentile(sepal_width, [25, 75])\n",
    "iqr = q3 - q1\n",
    "lower_bound = q1 - 1.5 * iqr\n",
    "upper_bound = q3 + 1.5 * iqr\n",
    "bp_outliers = sepal_width[(sepal_width < lower_bound) | (sepal_width > upper_bound)]\n",
    "\n",
    "# Modified Z-score method\n",
    "median = np.median(sepal_width)\n",
    "mad = np.median(np.abs(sepal_width - median))\n",
    "modified_z_scores = 0.6745 * (sepal_width - median) / mad\n",
    "modified_z_outliers = sepal_width[modified_z_scores > 3]\n",
    "\n",
    "# Tukey's fences method\n",
    "tukey_lower_bound = q1 - 1.5 * iqr\n",
    "tukey_upper_bound = q3 + 1.5 * iqr\n",
    "tukey_outliers = sepal_width[(sepal_width < tukey_lower_bound) | (sepal_width > tukey_upper_bound)]\n",
    "\n",
    "# Mahalanobis distance method\n",
    "# pca = PCA(n_components=1)\n",
    "# sepal_width_pca = pca.fit_transform(iris_df[['sepal width (cm)', 'sepal length (cm)', 'petal width (cm)', 'petal length (cm)']])\n",
    "# mahalanobis_dist = np.sqrt(\n",
    "#     distance.mahalanobis(\n",
    "#         sepal_width_pca[:, 0], \n",
    "#         np.mean(sepal_width_pca[:, 0]), \n",
    "#         np.cov(sepal_width_pca[:, 0])\n",
    "#         )\n",
    "#     )\n",
    "# mahalanobis_outliers = sepal_width[mahalanobis_dist > 3]\n",
    "\n",
    "# Local outlier factor method\n",
    "from sklearn.neighbors import LocalOutlierFactor\n",
    "lof = LocalOutlierFactor(n_neighbors=20, contamination=0.1)\n",
    "lof_outliers = sepal_width[lof.fit_predict(sepal_width.values.reshape(-1, 1)) == -1]\n",
    "\n",
    "# Print the outliers detected by each method\n",
    "print('Z-score outliers:', z_outliers)\n",
    "print('Box plot outliers:', bp_outliers)\n",
    "print('Modified Z-score outliers:', modified_z_outliers)\n",
    "print(\"Tukey's fences outliers:\", tukey_outliers)\n",
    "# print('Mahalanobis distance outliers:', mahalanobis_outliers)\n",
    "print('Local outlier factor outliers:', lof_outliers)\n"
   ]
  },
  {
   "cell_type": "code",
   "execution_count": 1,
   "metadata": {},
   "outputs": [
    {
     "name": "stdout",
     "output_type": "stream",
     "text": [
      "[ 0  4  8 54 93]\n"
     ]
    }
   ],
   "source": [
    "import numpy as np\n",
    "from scipy.spatial.distance import mahalanobis\n",
    "\n",
    "# generate some random data\n",
    "np.random.seed(0)\n",
    "x = np.random.normal(size=(100, 5))\n",
    "\n",
    "# compute the Mahalanobis distance of each point to the mean\n",
    "mean = np.mean(x, axis=0)\n",
    "cov = np.cov(x, rowvar=False)\n",
    "inv_cov = np.linalg.inv(cov)\n",
    "dist = np.zeros(x.shape[0])\n",
    "for i in range(x.shape[0]):\n",
    "    dist[i] = mahalanobis(x[i], mean, inv_cov)\n",
    "\n",
    "# identify outliers using a threshold\n",
    "threshold = np.percentile(dist, 95)\n",
    "outliers = np.where(dist > threshold)[0]\n",
    "print(outliers)\n"
   ]
  },
  {
   "cell_type": "code",
   "execution_count": 13,
   "metadata": {},
   "outputs": [
    {
     "name": "stdout",
     "output_type": "stream",
     "text": [
      "Number of outliers: 5\n",
      "Outliers: [ 0  4  8 54 93]\n"
     ]
    }
   ],
   "source": [
    "import numpy as np\n",
    "from scipy.spatial.distance import mahalanobis\n",
    "\n",
    "# generate some random data\n",
    "np.random.seed(0)\n",
    "X = np.random.normal(size=(100, 5))\n",
    "\n",
    "# compute the Mahalanobis distance of each point to the mean\n",
    "mean = np.mean(X, axis=0)\n",
    "cov = np.cov(X, rowvar=False)\n",
    "inv_cov = np.linalg.inv(cov)\n",
    "dist = np.zeros(X.shape[0])\n",
    "for i in range(X.shape[0]):\n",
    "    dist[i] = mahalanobis(X[i], mean, inv_cov)\n",
    "\n",
    "# set a threshold for outliers\n",
    "threshold = np.percentile(dist, 95)\n",
    "\n",
    "# identify outliers\n",
    "outliers = np.where(dist > threshold)[0]\n",
    "print(f\"Number of outliers: {len(outliers)}\")\n",
    "print(f\"Outliers: {outliers}\")\n"
   ]
  },
  {
   "cell_type": "code",
   "execution_count": 12,
   "metadata": {},
   "outputs": [
    {
     "data": {
      "text/plain": [
       "array([ 1.45027975,  0.0257666 ,  0.58497861,  0.21631342,  0.09853092,\n",
       "        0.2812694 , -0.53667688])"
      ]
     },
     "execution_count": 12,
     "metadata": {},
     "output_type": "execute_result"
    }
   ],
   "source": []
  },
  {
   "cell_type": "code",
   "execution_count": null,
   "metadata": {},
   "outputs": [],
   "source": []
  }
 ],
 "metadata": {
  "kernelspec": {
   "display_name": "ds_concepts",
   "language": "python",
   "name": "python3"
  },
  "language_info": {
   "codemirror_mode": {
    "name": "ipython",
    "version": 3
   },
   "file_extension": ".py",
   "mimetype": "text/x-python",
   "name": "python",
   "nbconvert_exporter": "python",
   "pygments_lexer": "ipython3",
   "version": "3.11.2"
  },
  "orig_nbformat": 4
 },
 "nbformat": 4,
 "nbformat_minor": 2
}
